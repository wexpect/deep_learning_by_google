{
 "cells": [
  {
   "cell_type": "code",
   "execution_count": 19,
   "metadata": {},
   "outputs": [],
   "source": [
    "# These are all the modules we'll be using later. Make sure you can import them\n",
    "# before proceeding further.\n",
    "from __future__ import print_function\n",
    "import matplotlib.pyplot as plt\n",
    "import numpy as np\n",
    "import os\n",
    "import sys\n",
    "import tarfile\n",
    "from IPython.display import display, Image\n",
    "from scipy import ndimage\n",
    "from sklearn.linear_model import LogisticRegression\n",
    "from six.moves.urllib.request import urlretrieve\n",
    "from six.moves import cPickle as pickle\n",
    "\n",
    "import imageio\n",
    "\n",
    "# Config the matplotlib backend as plotting inline in IPython\n",
    "%matplotlib inline\n"
   ]
  },
  {
   "cell_type": "code",
   "execution_count": 5,
   "metadata": {},
   "outputs": [
    {
     "data": {
      "text/plain": [
       "array([1, 2, 3])"
      ]
     },
     "execution_count": 5,
     "metadata": {},
     "output_type": "execute_result"
    }
   ],
   "source": [
    "a = np.array([1,2,3])\n",
    "a"
   ]
  },
  {
   "cell_type": "code",
   "execution_count": 12,
   "metadata": {},
   "outputs": [
    {
     "data": {
      "text/plain": [
       "array([ 0.09003057,  0.24472847,  0.66524096])"
      ]
     },
     "execution_count": 12,
     "metadata": {},
     "output_type": "execute_result"
    }
   ],
   "source": [
    "np.exp(a) / np.sum(np.exp(a))"
   ]
  },
  {
   "cell_type": "code",
   "execution_count": 22,
   "metadata": {},
   "outputs": [],
   "source": [
    "scores = a"
   ]
  },
  {
   "cell_type": "code",
   "execution_count": 14,
   "metadata": {},
   "outputs": [
    {
     "data": {
      "text/plain": [
       "array([[1, 2, 3, 6],\n",
       "       [2, 4, 5, 6],\n",
       "       [3, 8, 7, 6]])"
      ]
     },
     "execution_count": 14,
     "metadata": {},
     "output_type": "execute_result"
    }
   ],
   "source": [
    "scores = np.array([[1, 2, 3, 6],\n",
    "                   [2, 4, 5, 6],\n",
    "                   [3, 8, 7, 6]])\n",
    "scores"
   ]
  },
  {
   "cell_type": "code",
   "execution_count": 18,
   "metadata": {},
   "outputs": [
    {
     "data": {
      "text/plain": [
       "array([ 6, 14, 15, 18])"
      ]
     },
     "execution_count": 18,
     "metadata": {},
     "output_type": "execute_result"
    }
   ],
   "source": [
    "np.sum(scores, axis=0)"
   ]
  },
  {
   "cell_type": "code",
   "execution_count": 19,
   "metadata": {},
   "outputs": [
    {
     "data": {
      "text/plain": [
       "array([[  2.71828183e+00,   7.38905610e+00,   2.00855369e+01,\n",
       "          4.03428793e+02],\n",
       "       [  7.38905610e+00,   5.45981500e+01,   1.48413159e+02,\n",
       "          4.03428793e+02],\n",
       "       [  2.00855369e+01,   2.98095799e+03,   1.09663316e+03,\n",
       "          4.03428793e+02]])"
      ]
     },
     "execution_count": 19,
     "metadata": {},
     "output_type": "execute_result"
    }
   ],
   "source": [
    "np.exp(scores)"
   ]
  },
  {
   "cell_type": "code",
   "execution_count": 17,
   "metadata": {},
   "outputs": [
    {
     "data": {
      "text/plain": [
       "array([   30.19287485,  3042.94519317,  1265.13185445,  1210.28638048])"
      ]
     },
     "execution_count": 17,
     "metadata": {},
     "output_type": "execute_result"
    }
   ],
   "source": [
    "np.sum(np.exp(scores), axis=0)"
   ]
  },
  {
   "cell_type": "code",
   "execution_count": 20,
   "metadata": {},
   "outputs": [
    {
     "data": {
      "text/plain": [
       "array([[ 0.09003057,  0.00242826,  0.01587624,  0.33333333],\n",
       "       [ 0.24472847,  0.01794253,  0.11731043,  0.33333333],\n",
       "       [ 0.66524096,  0.97962921,  0.86681333,  0.33333333]])"
      ]
     },
     "execution_count": 20,
     "metadata": {},
     "output_type": "execute_result"
    }
   ],
   "source": [
    "np.exp(scores) / np.sum(np.exp(scores), axis=0)"
   ]
  },
  {
   "cell_type": "code",
   "execution_count": 23,
   "metadata": {},
   "outputs": [
    {
     "data": {
      "text/plain": [
       "array([ 0.09003057,  0.24472847,  0.66524096])"
      ]
     },
     "execution_count": 23,
     "metadata": {},
     "output_type": "execute_result"
    }
   ],
   "source": [
    "exp_scores = np.exp(scores)\n",
    "exp_scores / np.sum(exp_scores, axis=0)"
   ]
  },
  {
   "cell_type": "code",
   "execution_count": 19,
   "metadata": {},
   "outputs": [
    {
     "name": "stdout",
     "output_type": "stream",
     "text": [
      "[ 0.8360188   0.11314284  0.05083836]\n"
     ]
    }
   ],
   "source": [
    "\"\"\"Softmax.\"\"\"\n",
    "\n",
    "scores = np.array([3.0, 1.0, 0.2])\n",
    "\n",
    "import numpy as np\n",
    "\n",
    "def softmax(x):\n",
    "    \"\"\"Compute softmax values for each sets of scores in x.\"\"\"\n",
    "    # pass  # TODO: Compute and return softmax(x)\n",
    "    exp_scores = np.exp(x)\n",
    "    return exp_scores / np.sum(exp_scores, axis=0)\n",
    "\n",
    "print(softmax(scores))\n",
    "\n"
   ]
  },
  {
   "cell_type": "code",
   "execution_count": 5,
   "metadata": {},
   "outputs": [
    {
     "data": {
      "text/plain": [
       "array([ -2.00000000e+00,  -1.90000000e+00,  -1.80000000e+00,\n",
       "        -1.70000000e+00,  -1.60000000e+00,  -1.50000000e+00,\n",
       "        -1.40000000e+00,  -1.30000000e+00,  -1.20000000e+00,\n",
       "        -1.10000000e+00,  -1.00000000e+00,  -9.00000000e-01,\n",
       "        -8.00000000e-01,  -7.00000000e-01,  -6.00000000e-01,\n",
       "        -5.00000000e-01,  -4.00000000e-01,  -3.00000000e-01,\n",
       "        -2.00000000e-01,  -1.00000000e-01,   1.77635684e-15,\n",
       "         1.00000000e-01,   2.00000000e-01,   3.00000000e-01,\n",
       "         4.00000000e-01,   5.00000000e-01,   6.00000000e-01,\n",
       "         7.00000000e-01,   8.00000000e-01,   9.00000000e-01,\n",
       "         1.00000000e+00,   1.10000000e+00,   1.20000000e+00,\n",
       "         1.30000000e+00,   1.40000000e+00,   1.50000000e+00,\n",
       "         1.60000000e+00,   1.70000000e+00,   1.80000000e+00,\n",
       "         1.90000000e+00,   2.00000000e+00,   2.10000000e+00,\n",
       "         2.20000000e+00,   2.30000000e+00,   2.40000000e+00,\n",
       "         2.50000000e+00,   2.60000000e+00,   2.70000000e+00,\n",
       "         2.80000000e+00,   2.90000000e+00,   3.00000000e+00,\n",
       "         3.10000000e+00,   3.20000000e+00,   3.30000000e+00,\n",
       "         3.40000000e+00,   3.50000000e+00,   3.60000000e+00,\n",
       "         3.70000000e+00,   3.80000000e+00,   3.90000000e+00,\n",
       "         4.00000000e+00,   4.10000000e+00,   4.20000000e+00,\n",
       "         4.30000000e+00,   4.40000000e+00,   4.50000000e+00,\n",
       "         4.60000000e+00,   4.70000000e+00,   4.80000000e+00,\n",
       "         4.90000000e+00,   5.00000000e+00,   5.10000000e+00,\n",
       "         5.20000000e+00,   5.30000000e+00,   5.40000000e+00,\n",
       "         5.50000000e+00,   5.60000000e+00,   5.70000000e+00,\n",
       "         5.80000000e+00,   5.90000000e+00])"
      ]
     },
     "execution_count": 5,
     "metadata": {},
     "output_type": "execute_result"
    }
   ],
   "source": [
    "# Plot softmax curves\n",
    "import matplotlib.pyplot as plt\n",
    "x = np.arange(-2.0, 6.0, 0.1)\n",
    "x"
   ]
  },
  {
   "cell_type": "code",
   "execution_count": 7,
   "metadata": {},
   "outputs": [
    {
     "data": {
      "text/plain": [
       "array([ 1.,  1.,  1.,  1.,  1.,  1.,  1.,  1.,  1.,  1.,  1.,  1.,  1.,\n",
       "        1.,  1.,  1.,  1.,  1.,  1.,  1.,  1.,  1.,  1.,  1.,  1.,  1.,\n",
       "        1.,  1.,  1.,  1.,  1.,  1.,  1.,  1.,  1.,  1.,  1.,  1.,  1.,\n",
       "        1.,  1.,  1.,  1.,  1.,  1.,  1.,  1.,  1.,  1.,  1.,  1.,  1.,\n",
       "        1.,  1.,  1.,  1.,  1.,  1.,  1.,  1.,  1.,  1.,  1.,  1.,  1.,\n",
       "        1.,  1.,  1.,  1.,  1.,  1.,  1.,  1.,  1.,  1.,  1.,  1.,  1.,\n",
       "        1.,  1.])"
      ]
     },
     "execution_count": 7,
     "metadata": {},
     "output_type": "execute_result"
    }
   ],
   "source": [
    "np.ones_like(x)"
   ]
  },
  {
   "cell_type": "code",
   "execution_count": 8,
   "metadata": {},
   "outputs": [
    {
     "data": {
      "text/plain": [
       "array([[ -2.00000000e+00,  -1.90000000e+00,  -1.80000000e+00,\n",
       "         -1.70000000e+00,  -1.60000000e+00,  -1.50000000e+00,\n",
       "         -1.40000000e+00,  -1.30000000e+00,  -1.20000000e+00,\n",
       "         -1.10000000e+00,  -1.00000000e+00,  -9.00000000e-01,\n",
       "         -8.00000000e-01,  -7.00000000e-01,  -6.00000000e-01,\n",
       "         -5.00000000e-01,  -4.00000000e-01,  -3.00000000e-01,\n",
       "         -2.00000000e-01,  -1.00000000e-01,   1.77635684e-15,\n",
       "          1.00000000e-01,   2.00000000e-01,   3.00000000e-01,\n",
       "          4.00000000e-01,   5.00000000e-01,   6.00000000e-01,\n",
       "          7.00000000e-01,   8.00000000e-01,   9.00000000e-01,\n",
       "          1.00000000e+00,   1.10000000e+00,   1.20000000e+00,\n",
       "          1.30000000e+00,   1.40000000e+00,   1.50000000e+00,\n",
       "          1.60000000e+00,   1.70000000e+00,   1.80000000e+00,\n",
       "          1.90000000e+00,   2.00000000e+00,   2.10000000e+00,\n",
       "          2.20000000e+00,   2.30000000e+00,   2.40000000e+00,\n",
       "          2.50000000e+00,   2.60000000e+00,   2.70000000e+00,\n",
       "          2.80000000e+00,   2.90000000e+00,   3.00000000e+00,\n",
       "          3.10000000e+00,   3.20000000e+00,   3.30000000e+00,\n",
       "          3.40000000e+00,   3.50000000e+00,   3.60000000e+00,\n",
       "          3.70000000e+00,   3.80000000e+00,   3.90000000e+00,\n",
       "          4.00000000e+00,   4.10000000e+00,   4.20000000e+00,\n",
       "          4.30000000e+00,   4.40000000e+00,   4.50000000e+00,\n",
       "          4.60000000e+00,   4.70000000e+00,   4.80000000e+00,\n",
       "          4.90000000e+00,   5.00000000e+00,   5.10000000e+00,\n",
       "          5.20000000e+00,   5.30000000e+00,   5.40000000e+00,\n",
       "          5.50000000e+00,   5.60000000e+00,   5.70000000e+00,\n",
       "          5.80000000e+00,   5.90000000e+00],\n",
       "       [  1.00000000e+00,   1.00000000e+00,   1.00000000e+00,\n",
       "          1.00000000e+00,   1.00000000e+00,   1.00000000e+00,\n",
       "          1.00000000e+00,   1.00000000e+00,   1.00000000e+00,\n",
       "          1.00000000e+00,   1.00000000e+00,   1.00000000e+00,\n",
       "          1.00000000e+00,   1.00000000e+00,   1.00000000e+00,\n",
       "          1.00000000e+00,   1.00000000e+00,   1.00000000e+00,\n",
       "          1.00000000e+00,   1.00000000e+00,   1.00000000e+00,\n",
       "          1.00000000e+00,   1.00000000e+00,   1.00000000e+00,\n",
       "          1.00000000e+00,   1.00000000e+00,   1.00000000e+00,\n",
       "          1.00000000e+00,   1.00000000e+00,   1.00000000e+00,\n",
       "          1.00000000e+00,   1.00000000e+00,   1.00000000e+00,\n",
       "          1.00000000e+00,   1.00000000e+00,   1.00000000e+00,\n",
       "          1.00000000e+00,   1.00000000e+00,   1.00000000e+00,\n",
       "          1.00000000e+00,   1.00000000e+00,   1.00000000e+00,\n",
       "          1.00000000e+00,   1.00000000e+00,   1.00000000e+00,\n",
       "          1.00000000e+00,   1.00000000e+00,   1.00000000e+00,\n",
       "          1.00000000e+00,   1.00000000e+00,   1.00000000e+00,\n",
       "          1.00000000e+00,   1.00000000e+00,   1.00000000e+00,\n",
       "          1.00000000e+00,   1.00000000e+00,   1.00000000e+00,\n",
       "          1.00000000e+00,   1.00000000e+00,   1.00000000e+00,\n",
       "          1.00000000e+00,   1.00000000e+00,   1.00000000e+00,\n",
       "          1.00000000e+00,   1.00000000e+00,   1.00000000e+00,\n",
       "          1.00000000e+00,   1.00000000e+00,   1.00000000e+00,\n",
       "          1.00000000e+00,   1.00000000e+00,   1.00000000e+00,\n",
       "          1.00000000e+00,   1.00000000e+00,   1.00000000e+00,\n",
       "          1.00000000e+00,   1.00000000e+00,   1.00000000e+00,\n",
       "          1.00000000e+00,   1.00000000e+00],\n",
       "       [  2.00000000e-01,   2.00000000e-01,   2.00000000e-01,\n",
       "          2.00000000e-01,   2.00000000e-01,   2.00000000e-01,\n",
       "          2.00000000e-01,   2.00000000e-01,   2.00000000e-01,\n",
       "          2.00000000e-01,   2.00000000e-01,   2.00000000e-01,\n",
       "          2.00000000e-01,   2.00000000e-01,   2.00000000e-01,\n",
       "          2.00000000e-01,   2.00000000e-01,   2.00000000e-01,\n",
       "          2.00000000e-01,   2.00000000e-01,   2.00000000e-01,\n",
       "          2.00000000e-01,   2.00000000e-01,   2.00000000e-01,\n",
       "          2.00000000e-01,   2.00000000e-01,   2.00000000e-01,\n",
       "          2.00000000e-01,   2.00000000e-01,   2.00000000e-01,\n",
       "          2.00000000e-01,   2.00000000e-01,   2.00000000e-01,\n",
       "          2.00000000e-01,   2.00000000e-01,   2.00000000e-01,\n",
       "          2.00000000e-01,   2.00000000e-01,   2.00000000e-01,\n",
       "          2.00000000e-01,   2.00000000e-01,   2.00000000e-01,\n",
       "          2.00000000e-01,   2.00000000e-01,   2.00000000e-01,\n",
       "          2.00000000e-01,   2.00000000e-01,   2.00000000e-01,\n",
       "          2.00000000e-01,   2.00000000e-01,   2.00000000e-01,\n",
       "          2.00000000e-01,   2.00000000e-01,   2.00000000e-01,\n",
       "          2.00000000e-01,   2.00000000e-01,   2.00000000e-01,\n",
       "          2.00000000e-01,   2.00000000e-01,   2.00000000e-01,\n",
       "          2.00000000e-01,   2.00000000e-01,   2.00000000e-01,\n",
       "          2.00000000e-01,   2.00000000e-01,   2.00000000e-01,\n",
       "          2.00000000e-01,   2.00000000e-01,   2.00000000e-01,\n",
       "          2.00000000e-01,   2.00000000e-01,   2.00000000e-01,\n",
       "          2.00000000e-01,   2.00000000e-01,   2.00000000e-01,\n",
       "          2.00000000e-01,   2.00000000e-01,   2.00000000e-01,\n",
       "          2.00000000e-01,   2.00000000e-01]])"
      ]
     },
     "execution_count": 8,
     "metadata": {},
     "output_type": "execute_result"
    }
   ],
   "source": [
    "scores = np.vstack([x, np.ones_like(x), 0.2 * np.ones_like(x)])\n",
    "scores"
   ]
  },
  {
   "cell_type": "code",
   "execution_count": 9,
   "metadata": {},
   "outputs": [
    {
     "data": {
      "text/plain": [
       "array([[ 0.03321095,  0.03657602,  0.04026786,  0.04431519,  0.04874866,\n",
       "         0.05360079,  0.05890597,  0.06470033,  0.07102165,  0.07790913,\n",
       "         0.08540313,  0.09354484,  0.10237584,  0.11193758,  0.12227071,\n",
       "         0.13341442,  0.1454055 ,  0.15827749,  0.17205954,  0.18677538,\n",
       "         0.20244208,  0.21906889,  0.23665609,  0.25519382,  0.27466117,\n",
       "         0.29502533,  0.31624106,  0.33825043,  0.36098289,  0.38435576,\n",
       "         0.40827509,  0.4326369 ,  0.45732888,  0.48223232,  0.50722433,\n",
       "         0.53218029,  0.55697628,  0.58149154,  0.60561081,  0.62922636,\n",
       "         0.65223985,  0.67456369,  0.69612215,  0.71685193,  0.73670245,\n",
       "         0.75563572,  0.77362587,  0.79065851,  0.80672976,  0.82184522,\n",
       "         0.8360188 ,  0.84927158,  0.86163055,  0.87312754,  0.88379809,\n",
       "         0.89368047,  0.90281483,  0.91124236,  0.91900464,  0.9261431 ,\n",
       "         0.93269849,  0.93871054,  0.94421766,  0.94925668,  0.95386276,\n",
       "         0.9580692 ,  0.96190744,  0.96540703,  0.9685956 ,  0.97149895,\n",
       "         0.97414105,  0.97654413,  0.97872877,  0.98071396,  0.98251718,\n",
       "         0.98415453,  0.98564077,  0.98698946,  0.98821298,  0.98932269],\n",
       "       [ 0.66705977,  0.66473796,  0.66219069,  0.65939813,  0.65633915,\n",
       "         0.6529913 ,  0.64933087,  0.6453329 ,  0.64097135,  0.63621917,\n",
       "         0.6310485 ,  0.62543093,  0.61933776,  0.61274041,  0.60561081,\n",
       "         0.59792194,  0.58964839,  0.58076705,  0.57125779,  0.56110424,\n",
       "         0.55029462,  0.53882253,  0.52668782,  0.51389725,  0.50046528,\n",
       "         0.48641453,  0.47177622,  0.45659032,  0.4409055 ,  0.42477881,\n",
       "         0.40827509,  0.39146606,  0.37442922,  0.35724649,  0.34000264,\n",
       "         0.32278366,  0.30567506,  0.28876015,  0.27211848,  0.25582435,\n",
       "         0.23994563,  0.22454275,  0.20966796,  0.19536494,  0.18166859,\n",
       "         0.16860512,  0.15619237,  0.14444028,  0.13335153,  0.12292225,\n",
       "         0.11314284,  0.10399876,  0.09547139,  0.08753876,  0.08017635,\n",
       "         0.07335776,  0.06705529,  0.06124051,  0.05588473,  0.05095938,\n",
       "         0.04643632,  0.04228816,  0.03848839,  0.03501159,  0.03183352,\n",
       "         0.02893118,  0.02628289,  0.02386827,  0.02166823,  0.019665  ,\n",
       "         0.01784202,  0.01618395,  0.0146766 ,  0.01330688,  0.0120627 ,\n",
       "         0.01093297,  0.0099075 ,  0.00897694,  0.00813274,  0.00736707],\n",
       "       [ 0.29972928,  0.29868602,  0.29754146,  0.29628668,  0.29491219,\n",
       "         0.29340791,  0.29176317,  0.28996677,  0.28800699,  0.2858717 ,\n",
       "         0.28354837,  0.28102423,  0.27828639,  0.27532201,  0.27211848,\n",
       "         0.26866364,  0.2649461 ,  0.26095546,  0.25668267,  0.25212039,\n",
       "         0.24726331,  0.24210857,  0.23665609,  0.23090892,  0.22487355,\n",
       "         0.21856014,  0.21198272,  0.20515925,  0.19811161,  0.19086542,\n",
       "         0.18344982,  0.17589704,  0.16824189,  0.16052119,  0.15277303,\n",
       "         0.14503605,  0.13734866,  0.1297483 ,  0.12227071,  0.11494929,\n",
       "         0.10781452,  0.10089356,  0.09420989,  0.08778313,  0.08162896,\n",
       "         0.07575916,  0.07018176,  0.0649012 ,  0.05991871,  0.05523253,\n",
       "         0.05083836,  0.04672966,  0.04289806,  0.0393337 ,  0.03602556,\n",
       "         0.03296177,  0.03012988,  0.02751713,  0.02511063,  0.02289752,\n",
       "         0.02086519,  0.0190013 ,  0.01729395,  0.01573172,  0.01430372,\n",
       "         0.01299962,  0.01180966,  0.0107247 ,  0.00973616,  0.00883605,\n",
       "         0.00801693,  0.00727192,  0.00659462,  0.00597916,  0.00542012,\n",
       "         0.0049125 ,  0.00445173,  0.0040336 ,  0.00365428,  0.00331024]])"
      ]
     },
     "execution_count": 9,
     "metadata": {},
     "output_type": "execute_result"
    }
   ],
   "source": [
    "softmax(scores)"
   ]
  },
  {
   "cell_type": "code",
   "execution_count": 10,
   "metadata": {},
   "outputs": [
    {
     "data": {
      "text/plain": [
       "array([[ 0.03321095,  0.66705977,  0.29972928],\n",
       "       [ 0.03657602,  0.66473796,  0.29868602],\n",
       "       [ 0.04026786,  0.66219069,  0.29754146],\n",
       "       [ 0.04431519,  0.65939813,  0.29628668],\n",
       "       [ 0.04874866,  0.65633915,  0.29491219],\n",
       "       [ 0.05360079,  0.6529913 ,  0.29340791],\n",
       "       [ 0.05890597,  0.64933087,  0.29176317],\n",
       "       [ 0.06470033,  0.6453329 ,  0.28996677],\n",
       "       [ 0.07102165,  0.64097135,  0.28800699],\n",
       "       [ 0.07790913,  0.63621917,  0.2858717 ],\n",
       "       [ 0.08540313,  0.6310485 ,  0.28354837],\n",
       "       [ 0.09354484,  0.62543093,  0.28102423],\n",
       "       [ 0.10237584,  0.61933776,  0.27828639],\n",
       "       [ 0.11193758,  0.61274041,  0.27532201],\n",
       "       [ 0.12227071,  0.60561081,  0.27211848],\n",
       "       [ 0.13341442,  0.59792194,  0.26866364],\n",
       "       [ 0.1454055 ,  0.58964839,  0.2649461 ],\n",
       "       [ 0.15827749,  0.58076705,  0.26095546],\n",
       "       [ 0.17205954,  0.57125779,  0.25668267],\n",
       "       [ 0.18677538,  0.56110424,  0.25212039],\n",
       "       [ 0.20244208,  0.55029462,  0.24726331],\n",
       "       [ 0.21906889,  0.53882253,  0.24210857],\n",
       "       [ 0.23665609,  0.52668782,  0.23665609],\n",
       "       [ 0.25519382,  0.51389725,  0.23090892],\n",
       "       [ 0.27466117,  0.50046528,  0.22487355],\n",
       "       [ 0.29502533,  0.48641453,  0.21856014],\n",
       "       [ 0.31624106,  0.47177622,  0.21198272],\n",
       "       [ 0.33825043,  0.45659032,  0.20515925],\n",
       "       [ 0.36098289,  0.4409055 ,  0.19811161],\n",
       "       [ 0.38435576,  0.42477881,  0.19086542],\n",
       "       [ 0.40827509,  0.40827509,  0.18344982],\n",
       "       [ 0.4326369 ,  0.39146606,  0.17589704],\n",
       "       [ 0.45732888,  0.37442922,  0.16824189],\n",
       "       [ 0.48223232,  0.35724649,  0.16052119],\n",
       "       [ 0.50722433,  0.34000264,  0.15277303],\n",
       "       [ 0.53218029,  0.32278366,  0.14503605],\n",
       "       [ 0.55697628,  0.30567506,  0.13734866],\n",
       "       [ 0.58149154,  0.28876015,  0.1297483 ],\n",
       "       [ 0.60561081,  0.27211848,  0.12227071],\n",
       "       [ 0.62922636,  0.25582435,  0.11494929],\n",
       "       [ 0.65223985,  0.23994563,  0.10781452],\n",
       "       [ 0.67456369,  0.22454275,  0.10089356],\n",
       "       [ 0.69612215,  0.20966796,  0.09420989],\n",
       "       [ 0.71685193,  0.19536494,  0.08778313],\n",
       "       [ 0.73670245,  0.18166859,  0.08162896],\n",
       "       [ 0.75563572,  0.16860512,  0.07575916],\n",
       "       [ 0.77362587,  0.15619237,  0.07018176],\n",
       "       [ 0.79065851,  0.14444028,  0.0649012 ],\n",
       "       [ 0.80672976,  0.13335153,  0.05991871],\n",
       "       [ 0.82184522,  0.12292225,  0.05523253],\n",
       "       [ 0.8360188 ,  0.11314284,  0.05083836],\n",
       "       [ 0.84927158,  0.10399876,  0.04672966],\n",
       "       [ 0.86163055,  0.09547139,  0.04289806],\n",
       "       [ 0.87312754,  0.08753876,  0.0393337 ],\n",
       "       [ 0.88379809,  0.08017635,  0.03602556],\n",
       "       [ 0.89368047,  0.07335776,  0.03296177],\n",
       "       [ 0.90281483,  0.06705529,  0.03012988],\n",
       "       [ 0.91124236,  0.06124051,  0.02751713],\n",
       "       [ 0.91900464,  0.05588473,  0.02511063],\n",
       "       [ 0.9261431 ,  0.05095938,  0.02289752],\n",
       "       [ 0.93269849,  0.04643632,  0.02086519],\n",
       "       [ 0.93871054,  0.04228816,  0.0190013 ],\n",
       "       [ 0.94421766,  0.03848839,  0.01729395],\n",
       "       [ 0.94925668,  0.03501159,  0.01573172],\n",
       "       [ 0.95386276,  0.03183352,  0.01430372],\n",
       "       [ 0.9580692 ,  0.02893118,  0.01299962],\n",
       "       [ 0.96190744,  0.02628289,  0.01180966],\n",
       "       [ 0.96540703,  0.02386827,  0.0107247 ],\n",
       "       [ 0.9685956 ,  0.02166823,  0.00973616],\n",
       "       [ 0.97149895,  0.019665  ,  0.00883605],\n",
       "       [ 0.97414105,  0.01784202,  0.00801693],\n",
       "       [ 0.97654413,  0.01618395,  0.00727192],\n",
       "       [ 0.97872877,  0.0146766 ,  0.00659462],\n",
       "       [ 0.98071396,  0.01330688,  0.00597916],\n",
       "       [ 0.98251718,  0.0120627 ,  0.00542012],\n",
       "       [ 0.98415453,  0.01093297,  0.0049125 ],\n",
       "       [ 0.98564077,  0.0099075 ,  0.00445173],\n",
       "       [ 0.98698946,  0.00897694,  0.0040336 ],\n",
       "       [ 0.98821298,  0.00813274,  0.00365428],\n",
       "       [ 0.98932269,  0.00736707,  0.00331024]])"
      ]
     },
     "execution_count": 10,
     "metadata": {},
     "output_type": "execute_result"
    }
   ],
   "source": [
    "softmax(scores).T"
   ]
  },
  {
   "cell_type": "code",
   "execution_count": 11,
   "metadata": {},
   "outputs": [
    {
     "data": {
      "image/png": "[encoded data removed]",
      "text/plain": [
       "<matplotlib.figure.Figure at 0x111ed6b90>"
      ]
     },
     "metadata": {},
     "output_type": "display_data"
    }
   ],
   "source": [
    "plt.plot(x, softmax(scores).T, linewidth=2)\n",
    "plt.show()"
   ]
  },
  {
   "cell_type": "code",
   "execution_count": 12,
   "metadata": {},
   "outputs": [
    {
     "data": {
      "image/png": "[encoded data removed]",
      "text/plain": [
       "<matplotlib.figure.Figure at 0x1139d8150>"
      ]
     },
     "metadata": {},
     "output_type": "display_data"
    }
   ],
   "source": [
    "plt.plot(x, softmax(scores).T[:, 0], linewidth=2)\n",
    "plt.show()"
   ]
  },
  {
   "cell_type": "code",
   "execution_count": 13,
   "metadata": {},
   "outputs": [
    {
     "data": {
      "image/png": "[encoded data removed]",
      "text/plain": [
       "<matplotlib.figure.Figure at 0x113966190>"
      ]
     },
     "metadata": {},
     "output_type": "display_data"
    }
   ],
   "source": [
    "plt.plot(x, softmax(scores).T[:, 1], linewidth=2)\n",
    "plt.show()"
   ]
  },
  {
   "cell_type": "code",
   "execution_count": 14,
   "metadata": {},
   "outputs": [
    {
     "data": {
      "image/png": "[encoded data removed]",
      "text/plain": [
       "<matplotlib.figure.Figure at 0x113bf2a10>"
      ]
     },
     "metadata": {},
     "output_type": "display_data"
    }
   ],
   "source": [
    "plt.plot(x, softmax(scores).T[:, 2], linewidth=2)\n",
    "plt.show()"
   ]
  },
  {
   "cell_type": "code",
   "execution_count": 53,
   "metadata": {},
   "outputs": [
    {
     "data": {
      "text/plain": [
       "0"
      ]
     },
     "execution_count": 53,
     "metadata": {},
     "output_type": "execute_result"
    }
   ],
   "source": [
    "# a = 1000000000\n",
    "# a = 1\n",
    "a = 0\n",
    "a"
   ]
  },
  {
   "cell_type": "code",
   "execution_count": 54,
   "metadata": {},
   "outputs": [
    {
     "data": {
      "text/plain": [
       "1.000000000007918"
      ]
     },
     "execution_count": 54,
     "metadata": {},
     "output_type": "execute_result"
    }
   ],
   "source": [
    "for i in range(1000000):\n",
    "    a += 0.000001\n",
    "a"
   ]
  },
  {
   "cell_type": "code",
   "execution_count": 55,
   "metadata": {},
   "outputs": [
    {
     "data": {
      "text/plain": [
       "-999999999.0"
      ]
     },
     "execution_count": 55,
     "metadata": {},
     "output_type": "execute_result"
    }
   ],
   "source": [
    "a - 1000000000"
   ]
  },
  {
   "cell_type": "code",
   "execution_count": 47,
   "metadata": {},
   "outputs": [
    {
     "data": {
      "text/plain": [
       "0.9999999999177334"
      ]
     },
     "execution_count": 47,
     "metadata": {},
     "output_type": "execute_result"
    }
   ],
   "source": [
    "a - 1"
   ]
  },
  {
   "cell_type": "code",
   "execution_count": 3,
   "metadata": {},
   "outputs": [
    {
     "data": {
      "text/plain": [
       "array([[[  3.10503618e+231,   3.10503618e+231],\n",
       "        [  2.17917726e-314,   2.17919878e-314]],\n",
       "\n",
       "       [[  2.17917059e-314,   2.17919892e-314],\n",
       "        [  3.10503618e+231,   0.00000000e+000]],\n",
       "\n",
       "       [[  2.15754679e-314,   3.10503618e+231],\n",
       "        [  3.10503618e+231,   8.38742929e-309]]])"
      ]
     },
     "execution_count": 3,
     "metadata": {},
     "output_type": "execute_result"
    }
   ],
   "source": [
    "# random\n",
    "np.ndarray(shape=(3,2,2), dtype=float)"
   ]
  },
  {
   "cell_type": "code",
   "execution_count": 7,
   "metadata": {},
   "outputs": [
    {
     "data": {
      "text/plain": [
       "array([[ 0.,  0.],\n",
       "       [ 0.,  0.]])"
      ]
     },
     "execution_count": 7,
     "metadata": {},
     "output_type": "execute_result"
    }
   ],
   "source": [
    "np.zeros(shape=(3,2,2), dtype=float)[0]"
   ]
  },
  {
   "cell_type": "code",
   "execution_count": 27,
   "metadata": {},
   "outputs": [
    {
     "data": {
      "image/png": "[encoded data removed]",
      "text/plain": [
       "<IPython.core.display.Image object>"
      ]
     },
     "metadata": {},
     "output_type": "display_data"
    }
   ],
   "source": [
    "display(Image(filename='./notMNIST_large/A/emlwZXJoZWFkLnR0Zg==.png'))"
   ]
  },
  {
   "cell_type": "code",
   "execution_count": 63,
   "metadata": {},
   "outputs": [
    {
     "name": "stderr",
     "output_type": "stream",
     "text": [
      "/Users/rui/0_my_staff/python_projs/env/lib/python2.7/site-packages/ipykernel_launcher.py:2: DeprecationWarning: `imread` is deprecated!\n",
      "`imread` is deprecated in SciPy 1.0.0.\n",
      "Use ``matplotlib.pyplot.imread`` instead.\n",
      "  \n"
     ]
    },
    {
     "data": {
      "text/plain": [
       "array([[   0.,    0.,    0.,    0.,    0.,    0.,    1.,    4.,    3.,\n",
       "           0.,    8.,  111.,  217.,  255.,  182.,    5.,    0.,    1.,\n",
       "           0.,    0.,    0.,    0.,    0.,    0.,    0.,    0.,    0.,\n",
       "           0.],\n",
       "       [   0.,    0.,    0.,    0.,    0.,    0.,    1.,    1.,    0.,\n",
       "          66.,  206.,  255.,  254.,  252.,  255.,  112.,    0.,    4.,\n",
       "           0.,    0.,    0.,    0.,    0.,    0.,    0.,    0.,    0.,\n",
       "           0.],\n",
       "       [   0.,    0.,    0.,    0.,    1.,    0.,   17.,   79.,  182.,\n",
       "         255.,  255.,  253.,  254.,  254.,  255.,  236.,   34.,    0.,\n",
       "           2.,    0.,    0.,    0.,    0.,    0.,    0.,    0.,    0.,\n",
       "           0.],\n",
       "       [   0.,    0.,    0.,    0.,    2.,    0.,  168.,  255.,  252.,\n",
       "         253.,  253.,  255.,  255.,  255.,  252.,  255.,  159.,    0.,\n",
       "           3.,    0.,    0.,    0.,    0.,    0.,    0.,    0.,    0.,\n",
       "           0.],\n",
       "       [   0.,    0.,    0.,    1.,    0.,   13.,  230.,  255.,  250.,\n",
       "         255.,  255.,  255.,  255.,  255.,  255.,  255.,  255.,   57.,\n",
       "           0.,    3.,    0.,    0.,    0.,    0.,    0.,    0.,    0.,\n",
       "           0.],\n",
       "       [   0.,    0.,    0.,    3.,    0.,   59.,  255.,  255.,  255.,\n",
       "         255.,  255.,  255.,  254.,  254.,  255.,  252.,  255.,  181.,\n",
       "           0.,    2.,    0.,    0.,    0.,    0.,    0.,    0.,    0.,\n",
       "           0.],\n",
       "       [   0.,    0.,    0.,    4.,    0.,  119.,  255.,  251.,  255.,\n",
       "         255.,  255.,  255.,  255.,  254.,  255.,  255.,  253.,  255.,\n",
       "          82.,    0.,    3.,    0.,    0.,    0.,    0.,    0.,    0.,\n",
       "           0.],\n",
       "       [   0.,    0.,    0.,    1.,    0.,  178.,  255.,  252.,  255.,\n",
       "         255.,  253.,  255.,  178.,  220.,  255.,  254.,  253.,  255.,\n",
       "         214.,   14.,    0.,    1.,    0.,    0.,    0.,    0.,    0.,\n",
       "           0.],\n",
       "       [   0.,    0.,    1.,    0.,   14.,  232.,  255.,  254.,  255.,\n",
       "         255.,  253.,  255.,   64.,  135.,  255.,  252.,  255.,  251.,\n",
       "         255.,  137.,    0.,    5.,    0.,    0.,    0.,    0.,    0.,\n",
       "           0.],\n",
       "       [   0.,    0.,    3.,    0.,   67.,  255.,  254.,  254.,  255.,\n",
       "         254.,  255.,  255.,   46.,   48.,  255.,  254.,  255.,  254.,\n",
       "         255.,  253.,   71.,    0.,    4.,    4.,    2.,    0.,    0.,\n",
       "           0.],\n",
       "       [   0.,    0.,    4.,    0.,  126.,  255.,  251.,  255.,  255.,\n",
       "         254.,  254.,  255.,   65.,    0.,  215.,  255.,  253.,  255.,\n",
       "         254.,  255.,  229.,   54.,    0.,    1.,    0.,    3.,    3.,\n",
       "           0.],\n",
       "       [   0.,    0.,    1.,    0.,  198.,  255.,  253.,  255.,  255.,\n",
       "         255.,  251.,  255.,  118.,    0.,  156.,  255.,  252.,  255.,\n",
       "         255.,  254.,  255.,  250.,  187.,  102.,   30.,    0.,    0.,\n",
       "           0.],\n",
       "       [   0.,    2.,    0.,   42.,  246.,  255.,  254.,  255.,  255.,\n",
       "         255.,  255.,  255.,  249.,  238.,  243.,  255.,  255.,  255.,\n",
       "         255.,  255.,  254.,  253.,  255.,  255.,  245.,  178.,   60.,\n",
       "           0.],\n",
       "       [   0.,    5.,    0.,  114.,  255.,  251.,  255.,  255.,  255.,\n",
       "         255.,  255.,  255.,  255.,  255.,  255.,  255.,  255.,  255.,\n",
       "         255.,  255.,  255.,  255.,  252.,  252.,  254.,  255.,  246.,\n",
       "          35.],\n",
       "       [   1.,    0.,    1.,  204.,  255.,  253.,  255.,  255.,  255.,\n",
       "         255.,  255.,  255.,  254.,  254.,  254.,  255.,  255.,  255.,\n",
       "         255.,  255.,  255.,  255.,  255.,  255.,  252.,  255.,  212.,\n",
       "          11.],\n",
       "       [   2.,   23.,  133.,  255.,  254.,  255.,  255.,  255.,  255.,\n",
       "         255.,  255.,  255.,  254.,  254.,  254.,  254.,  254.,  255.,\n",
       "         255.,  255.,  255.,  255.,  255.,  255.,  252.,  255.,  114.,\n",
       "           0.],\n",
       "       [ 224.,  249.,  255.,  254.,  255.,  255.,  255.,  255.,  255.,\n",
       "         255.,  253.,  252.,  255.,  255.,  255.,  255.,  255.,  251.,\n",
       "         252.,  255.,  255.,  255.,  255.,  253.,  255.,  222.,   14.,\n",
       "           0.],\n",
       "       [ 197.,  245.,  255.,  254.,  255.,  255.,  255.,  255.,  255.,\n",
       "         254.,  254.,  255.,  244.,  239.,  245.,  251.,  255.,  255.,\n",
       "         255.,  255.,  255.,  255.,  255.,  253.,  255.,   96.,    0.,\n",
       "           3.],\n",
       "       [   0.,   30.,  194.,  255.,  253.,  255.,  255.,  255.,  253.,\n",
       "         255.,  206.,   76.,   39.,   18.,    3.,   16.,   40.,   82.,\n",
       "         173.,  253.,  255.,  255.,  255.,  253.,  255.,   62.,    0.,\n",
       "           3.],\n",
       "       [   5.,    0.,   59.,  255.,  254.,  255.,  255.,  253.,  255.,\n",
       "         226.,   28.,    0.,  103.,  237.,  157.,   96.,   56.,   40.,\n",
       "          56.,  214.,  255.,  253.,  255.,  252.,  255.,  169.,    0.,\n",
       "           3.],\n",
       "       [   3.,    0.,   58.,  255.,  254.,  255.,  255.,  251.,  255.,\n",
       "         154.,    0.,    2.,   39.,  159.,  232.,  255.,  254.,  255.,\n",
       "         255.,  252.,  252.,  254.,  255.,  254.,  255.,  251.,   49.,\n",
       "           0.],\n",
       "       [   3.,    0.,  111.,  255.,  252.,  255.,  255.,  252.,  255.,\n",
       "         120.,    0.,    4.,    0.,    0.,    2.,   45.,  117.,  192.,\n",
       "         245.,  255.,  255.,  255.,  255.,  255.,  252.,  255.,  160.,\n",
       "           0.],\n",
       "       [   4.,    0.,  168.,  255.,  252.,  255.,  255.,  253.,  255.,\n",
       "          84.,    0.,    3.,    2.,    4.,    0.,    0.,    0.,    0.,\n",
       "          31.,  101.,  181.,  248.,  255.,  255.,  254.,  255.,  246.,\n",
       "          49.],\n",
       "       [   0.,    0.,  198.,  255.,  251.,  254.,  254.,  250.,  255.,\n",
       "          53.,    0.,    3.,    0.,    0.,    1.,    2.,    4.,    1.,\n",
       "           0.,    3.,    0.,  121.,  255.,  251.,  255.,  252.,  255.,\n",
       "         153.],\n",
       "       [   0.,   10.,  216.,  255.,  253.,  255.,  253.,  255.,  213.,\n",
       "          10.,    0.,    1.,    0.,    0.,    0.,    0.,    0.,    0.,\n",
       "           2.,    6.,    0.,   27.,  237.,  255.,  254.,  253.,  255.,\n",
       "         187.],\n",
       "       [   0.,    1.,   78.,  152.,  214.,  247.,  244.,  197.,   51.,\n",
       "           0.,    2.,    0.,    0.,    0.,    0.,    0.,    0.,    0.,\n",
       "           0.,    0.,    3.,    0.,  144.,  255.,  250.,  252.,  255.,\n",
       "         130.],\n",
       "       [   0.,    0.,    0.,    0.,    4.,   29.,   22.,    2.,    0.,\n",
       "           1.,    0.,    0.,    0.,    0.,    0.,    0.,    0.,    0.,\n",
       "           0.,    0.,    1.,    0.,   22.,  221.,  255.,  255.,  242.,\n",
       "          39.],\n",
       "       [   0.,    0.,    3.,    4.,    0.,    0.,    0.,    2.,    2.,\n",
       "           0.,    0.,    0.,    0.,    0.,    0.,    0.,    0.,    0.,\n",
       "           0.,    0.,    0.,    2.,    0.,   51.,  217.,  255.,  143.,\n",
       "           0.]])"
      ]
     },
     "execution_count": 63,
     "metadata": {},
     "output_type": "execute_result"
    }
   ],
   "source": [
    "# [0, 255]\n",
    "image = ndimage.imread('./notMNIST_large/A/emlwZXJoZWFkLnR0Zg==.png').astype(float)\n",
    "image"
   ]
  },
  {
   "cell_type": "code",
   "execution_count": 73,
   "metadata": {},
   "outputs": [
    {
     "data": {
      "text/plain": [
       "Image([[   0.,    0.,    0.,    0.,    0.,    0.,    1.,    4.,    3.,\n",
       "           0.,    8.,  111.,  217.,  255.,  182.,    5.,    0.,    1.,\n",
       "           0.,    0.,    0.,    0.,    0.,    0.,    0.,    0.,    0.,\n",
       "           0.],\n",
       "       [   0.,    0.,    0.,    0.,    0.,    0.,    1.,    1.,    0.,\n",
       "          66.,  206.,  255.,  254.,  252.,  255.,  112.,    0.,    4.,\n",
       "           0.,    0.,    0.,    0.,    0.,    0.,    0.,    0.,    0.,\n",
       "           0.],\n",
       "       [   0.,    0.,    0.,    0.,    1.,    0.,   17.,   79.,  182.,\n",
       "         255.,  255.,  253.,  254.,  254.,  255.,  236.,   34.,    0.,\n",
       "           2.,    0.,    0.,    0.,    0.,    0.,    0.,    0.,    0.,\n",
       "           0.],\n",
       "       [   0.,    0.,    0.,    0.,    2.,    0.,  168.,  255.,  252.,\n",
       "         253.,  253.,  255.,  255.,  255.,  252.,  255.,  159.,    0.,\n",
       "           3.,    0.,    0.,    0.,    0.,    0.,    0.,    0.,    0.,\n",
       "           0.],\n",
       "       [   0.,    0.,    0.,    1.,    0.,   13.,  230.,  255.,  250.,\n",
       "         255.,  255.,  255.,  255.,  255.,  255.,  255.,  255.,   57.,\n",
       "           0.,    3.,    0.,    0.,    0.,    0.,    0.,    0.,    0.,\n",
       "           0.],\n",
       "       [   0.,    0.,    0.,    3.,    0.,   59.,  255.,  255.,  255.,\n",
       "         255.,  255.,  255.,  254.,  254.,  255.,  252.,  255.,  181.,\n",
       "           0.,    2.,    0.,    0.,    0.,    0.,    0.,    0.,    0.,\n",
       "           0.],\n",
       "       [   0.,    0.,    0.,    4.,    0.,  119.,  255.,  251.,  255.,\n",
       "         255.,  255.,  255.,  255.,  254.,  255.,  255.,  253.,  255.,\n",
       "          82.,    0.,    3.,    0.,    0.,    0.,    0.,    0.,    0.,\n",
       "           0.],\n",
       "       [   0.,    0.,    0.,    1.,    0.,  178.,  255.,  252.,  255.,\n",
       "         255.,  253.,  255.,  178.,  220.,  255.,  254.,  253.,  255.,\n",
       "         214.,   14.,    0.,    1.,    0.,    0.,    0.,    0.,    0.,\n",
       "           0.],\n",
       "       [   0.,    0.,    1.,    0.,   14.,  232.,  255.,  254.,  255.,\n",
       "         255.,  253.,  255.,   64.,  135.,  255.,  252.,  255.,  251.,\n",
       "         255.,  137.,    0.,    5.,    0.,    0.,    0.,    0.,    0.,\n",
       "           0.],\n",
       "       [   0.,    0.,    3.,    0.,   67.,  255.,  254.,  254.,  255.,\n",
       "         254.,  255.,  255.,   46.,   48.,  255.,  254.,  255.,  254.,\n",
       "         255.,  253.,   71.,    0.,    4.,    4.,    2.,    0.,    0.,\n",
       "           0.],\n",
       "       [   0.,    0.,    4.,    0.,  126.,  255.,  251.,  255.,  255.,\n",
       "         254.,  254.,  255.,   65.,    0.,  215.,  255.,  253.,  255.,\n",
       "         254.,  255.,  229.,   54.,    0.,    1.,    0.,    3.,    3.,\n",
       "           0.],\n",
       "       [   0.,    0.,    1.,    0.,  198.,  255.,  253.,  255.,  255.,\n",
       "         255.,  251.,  255.,  118.,    0.,  156.,  255.,  252.,  255.,\n",
       "         255.,  254.,  255.,  250.,  187.,  102.,   30.,    0.,    0.,\n",
       "           0.],\n",
       "       [   0.,    2.,    0.,   42.,  246.,  255.,  254.,  255.,  255.,\n",
       "         255.,  255.,  255.,  249.,  238.,  243.,  255.,  255.,  255.,\n",
       "         255.,  255.,  254.,  253.,  255.,  255.,  245.,  178.,   60.,\n",
       "           0.],\n",
       "       [   0.,    5.,    0.,  114.,  255.,  251.,  255.,  255.,  255.,\n",
       "         255.,  255.,  255.,  255.,  255.,  255.,  255.,  255.,  255.,\n",
       "         255.,  255.,  255.,  255.,  252.,  252.,  254.,  255.,  246.,\n",
       "          35.],\n",
       "       [   1.,    0.,    1.,  204.,  255.,  253.,  255.,  255.,  255.,\n",
       "         255.,  255.,  255.,  254.,  254.,  254.,  255.,  255.,  255.,\n",
       "         255.,  255.,  255.,  255.,  255.,  255.,  252.,  255.,  212.,\n",
       "          11.],\n",
       "       [   2.,   23.,  133.,  255.,  254.,  255.,  255.,  255.,  255.,\n",
       "         255.,  255.,  255.,  254.,  254.,  254.,  254.,  254.,  255.,\n",
       "         255.,  255.,  255.,  255.,  255.,  255.,  252.,  255.,  114.,\n",
       "           0.],\n",
       "       [ 224.,  249.,  255.,  254.,  255.,  255.,  255.,  255.,  255.,\n",
       "         255.,  253.,  252.,  255.,  255.,  255.,  255.,  255.,  251.,\n",
       "         252.,  255.,  255.,  255.,  255.,  253.,  255.,  222.,   14.,\n",
       "           0.],\n",
       "       [ 197.,  245.,  255.,  254.,  255.,  255.,  255.,  255.,  255.,\n",
       "         254.,  254.,  255.,  244.,  239.,  245.,  251.,  255.,  255.,\n",
       "         255.,  255.,  255.,  255.,  255.,  253.,  255.,   96.,    0.,\n",
       "           3.],\n",
       "       [   0.,   30.,  194.,  255.,  253.,  255.,  255.,  255.,  253.,\n",
       "         255.,  206.,   76.,   39.,   18.,    3.,   16.,   40.,   82.,\n",
       "         173.,  253.,  255.,  255.,  255.,  253.,  255.,   62.,    0.,\n",
       "           3.],\n",
       "       [   5.,    0.,   59.,  255.,  254.,  255.,  255.,  253.,  255.,\n",
       "         226.,   28.,    0.,  103.,  237.,  157.,   96.,   56.,   40.,\n",
       "          56.,  214.,  255.,  253.,  255.,  252.,  255.,  169.,    0.,\n",
       "           3.],\n",
       "       [   3.,    0.,   58.,  255.,  254.,  255.,  255.,  251.,  255.,\n",
       "         154.,    0.,    2.,   39.,  159.,  232.,  255.,  254.,  255.,\n",
       "         255.,  252.,  252.,  254.,  255.,  254.,  255.,  251.,   49.,\n",
       "           0.],\n",
       "       [   3.,    0.,  111.,  255.,  252.,  255.,  255.,  252.,  255.,\n",
       "         120.,    0.,    4.,    0.,    0.,    2.,   45.,  117.,  192.,\n",
       "         245.,  255.,  255.,  255.,  255.,  255.,  252.,  255.,  160.,\n",
       "           0.],\n",
       "       [   4.,    0.,  168.,  255.,  252.,  255.,  255.,  253.,  255.,\n",
       "          84.,    0.,    3.,    2.,    4.,    0.,    0.,    0.,    0.,\n",
       "          31.,  101.,  181.,  248.,  255.,  255.,  254.,  255.,  246.,\n",
       "          49.],\n",
       "       [   0.,    0.,  198.,  255.,  251.,  254.,  254.,  250.,  255.,\n",
       "          53.,    0.,    3.,    0.,    0.,    1.,    2.,    4.,    1.,\n",
       "           0.,    3.,    0.,  121.,  255.,  251.,  255.,  252.,  255.,\n",
       "         153.],\n",
       "       [   0.,   10.,  216.,  255.,  253.,  255.,  253.,  255.,  213.,\n",
       "          10.,    0.,    1.,    0.,    0.,    0.,    0.,    0.,    0.,\n",
       "           2.,    6.,    0.,   27.,  237.,  255.,  254.,  253.,  255.,\n",
       "         187.],\n",
       "       [   0.,    1.,   78.,  152.,  214.,  247.,  244.,  197.,   51.,\n",
       "           0.,    2.,    0.,    0.,    0.,    0.,    0.,    0.,    0.,\n",
       "           0.,    0.,    3.,    0.,  144.,  255.,  250.,  252.,  255.,\n",
       "         130.],\n",
       "       [   0.,    0.,    0.,    0.,    4.,   29.,   22.,    2.,    0.,\n",
       "           1.,    0.,    0.,    0.,    0.,    0.,    0.,    0.,    0.,\n",
       "           0.,    0.,    1.,    0.,   22.,  221.,  255.,  255.,  242.,\n",
       "          39.],\n",
       "       [   0.,    0.,    3.,    4.,    0.,    0.,    0.,    2.,    2.,\n",
       "           0.,    0.,    0.,    0.,    0.,    0.,    0.,    0.,    0.,\n",
       "           0.,    0.,    0.,    2.,    0.,   51.,  217.,  255.,  143.,\n",
       "           0.]])"
      ]
     },
     "execution_count": 73,
     "metadata": {},
     "output_type": "execute_result"
    }
   ],
   "source": [
    "imageio.imread('./notMNIST_large/A/emlwZXJoZWFkLnR0Zg==.png').astype(float)"
   ]
  },
  {
   "cell_type": "code",
   "execution_count": 68,
   "metadata": {},
   "outputs": [
    {
     "data": {
      "text/plain": [
       "Image([[   0.,    0.,    0.,    0.,    0.,    0.,    1.,    4.,    3.,\n",
       "           0.,    8.,  111.,  217.,  255.,  182.,    5.,    0.,    1.,\n",
       "           0.,    0.,    0.,    0.,    0.,    0.,    0.,    0.,    0.,\n",
       "           0.],\n",
       "       [   0.,    0.,    0.,    0.,    0.,    0.,    1.,    1.,    0.,\n",
       "          66.,  206.,  255.,  254.,  252.,  255.,  112.,    0.,    4.,\n",
       "           0.,    0.,    0.,    0.,    0.,    0.,    0.,    0.,    0.,\n",
       "           0.],\n",
       "       [   0.,    0.,    0.,    0.,    1.,    0.,   17.,   79.,  182.,\n",
       "         255.,  255.,  253.,  254.,  254.,  255.,  236.,   34.,    0.,\n",
       "           2.,    0.,    0.,    0.,    0.,    0.,    0.,    0.,    0.,\n",
       "           0.],\n",
       "       [   0.,    0.,    0.,    0.,    2.,    0.,  168.,  255.,  252.,\n",
       "         253.,  253.,  255.,  255.,  255.,  252.,  255.,  159.,    0.,\n",
       "           3.,    0.,    0.,    0.,    0.,    0.,    0.,    0.,    0.,\n",
       "           0.],\n",
       "       [   0.,    0.,    0.,    1.,    0.,   13.,  230.,  255.,  250.,\n",
       "         255.,  255.,  255.,  255.,  255.,  255.,  255.,  255.,   57.,\n",
       "           0.,    3.,    0.,    0.,    0.,    0.,    0.,    0.,    0.,\n",
       "           0.],\n",
       "       [   0.,    0.,    0.,    3.,    0.,   59.,  255.,  255.,  255.,\n",
       "         255.,  255.,  255.,  254.,  254.,  255.,  252.,  255.,  181.,\n",
       "           0.,    2.,    0.,    0.,    0.,    0.,    0.,    0.,    0.,\n",
       "           0.],\n",
       "       [   0.,    0.,    0.,    4.,    0.,  119.,  255.,  251.,  255.,\n",
       "         255.,  255.,  255.,  255.,  254.,  255.,  255.,  253.,  255.,\n",
       "          82.,    0.,    3.,    0.,    0.,    0.,    0.,    0.,    0.,\n",
       "           0.],\n",
       "       [   0.,    0.,    0.,    1.,    0.,  178.,  255.,  252.,  255.,\n",
       "         255.,  253.,  255.,  178.,  220.,  255.,  254.,  253.,  255.,\n",
       "         214.,   14.,    0.,    1.,    0.,    0.,    0.,    0.,    0.,\n",
       "           0.],\n",
       "       [   0.,    0.,    1.,    0.,   14.,  232.,  255.,  254.,  255.,\n",
       "         255.,  253.,  255.,   64.,  135.,  255.,  252.,  255.,  251.,\n",
       "         255.,  137.,    0.,    5.,    0.,    0.,    0.,    0.,    0.,\n",
       "           0.],\n",
       "       [   0.,    0.,    3.,    0.,   67.,  255.,  254.,  254.,  255.,\n",
       "         254.,  255.,  255.,   46.,   48.,  255.,  254.,  255.,  254.,\n",
       "         255.,  253.,   71.,    0.,    4.,    4.,    2.,    0.,    0.,\n",
       "           0.],\n",
       "       [   0.,    0.,    4.,    0.,  126.,  255.,  251.,  255.,  255.,\n",
       "         254.,  254.,  255.,   65.,    0.,  215.,  255.,  253.,  255.,\n",
       "         254.,  255.,  229.,   54.,    0.,    1.,    0.,    3.,    3.,\n",
       "           0.],\n",
       "       [   0.,    0.,    1.,    0.,  198.,  255.,  253.,  255.,  255.,\n",
       "         255.,  251.,  255.,  118.,    0.,  156.,  255.,  252.,  255.,\n",
       "         255.,  254.,  255.,  250.,  187.,  102.,   30.,    0.,    0.,\n",
       "           0.],\n",
       "       [   0.,    2.,    0.,   42.,  246.,  255.,  254.,  255.,  255.,\n",
       "         255.,  255.,  255.,  249.,  238.,  243.,  255.,  255.,  255.,\n",
       "         255.,  255.,  254.,  253.,  255.,  255.,  245.,  178.,   60.,\n",
       "           0.],\n",
       "       [   0.,    5.,    0.,  114.,  255.,  251.,  255.,  255.,  255.,\n",
       "         255.,  255.,  255.,  255.,  255.,  255.,  255.,  255.,  255.,\n",
       "         255.,  255.,  255.,  255.,  252.,  252.,  254.,  255.,  246.,\n",
       "          35.],\n",
       "       [   1.,    0.,    1.,  204.,  255.,  253.,  255.,  255.,  255.,\n",
       "         255.,  255.,  255.,  254.,  254.,  254.,  255.,  255.,  255.,\n",
       "         255.,  255.,  255.,  255.,  255.,  255.,  252.,  255.,  212.,\n",
       "          11.],\n",
       "       [   2.,   23.,  133.,  255.,  254.,  255.,  255.,  255.,  255.,\n",
       "         255.,  255.,  255.,  254.,  254.,  254.,  254.,  254.,  255.,\n",
       "         255.,  255.,  255.,  255.,  255.,  255.,  252.,  255.,  114.,\n",
       "           0.],\n",
       "       [ 224.,  249.,  255.,  254.,  255.,  255.,  255.,  255.,  255.,\n",
       "         255.,  253.,  252.,  255.,  255.,  255.,  255.,  255.,  251.,\n",
       "         252.,  255.,  255.,  255.,  255.,  253.,  255.,  222.,   14.,\n",
       "           0.],\n",
       "       [ 197.,  245.,  255.,  254.,  255.,  255.,  255.,  255.,  255.,\n",
       "         254.,  254.,  255.,  244.,  239.,  245.,  251.,  255.,  255.,\n",
       "         255.,  255.,  255.,  255.,  255.,  253.,  255.,   96.,    0.,\n",
       "           3.],\n",
       "       [   0.,   30.,  194.,  255.,  253.,  255.,  255.,  255.,  253.,\n",
       "         255.,  206.,   76.,   39.,   18.,    3.,   16.,   40.,   82.,\n",
       "         173.,  253.,  255.,  255.,  255.,  253.,  255.,   62.,    0.,\n",
       "           3.],\n",
       "       [   5.,    0.,   59.,  255.,  254.,  255.,  255.,  253.,  255.,\n",
       "         226.,   28.,    0.,  103.,  237.,  157.,   96.,   56.,   40.,\n",
       "          56.,  214.,  255.,  253.,  255.,  252.,  255.,  169.,    0.,\n",
       "           3.],\n",
       "       [   3.,    0.,   58.,  255.,  254.,  255.,  255.,  251.,  255.,\n",
       "         154.,    0.,    2.,   39.,  159.,  232.,  255.,  254.,  255.,\n",
       "         255.,  252.,  252.,  254.,  255.,  254.,  255.,  251.,   49.,\n",
       "           0.],\n",
       "       [   3.,    0.,  111.,  255.,  252.,  255.,  255.,  252.,  255.,\n",
       "         120.,    0.,    4.,    0.,    0.,    2.,   45.,  117.,  192.,\n",
       "         245.,  255.,  255.,  255.,  255.,  255.,  252.,  255.,  160.,\n",
       "           0.],\n",
       "       [   4.,    0.,  168.,  255.,  252.,  255.,  255.,  253.,  255.,\n",
       "          84.,    0.,    3.,    2.,    4.,    0.,    0.,    0.,    0.,\n",
       "          31.,  101.,  181.,  248.,  255.,  255.,  254.,  255.,  246.,\n",
       "          49.],\n",
       "       [   0.,    0.,  198.,  255.,  251.,  254.,  254.,  250.,  255.,\n",
       "          53.,    0.,    3.,    0.,    0.,    1.,    2.,    4.,    1.,\n",
       "           0.,    3.,    0.,  121.,  255.,  251.,  255.,  252.,  255.,\n",
       "         153.],\n",
       "       [   0.,   10.,  216.,  255.,  253.,  255.,  253.,  255.,  213.,\n",
       "          10.,    0.,    1.,    0.,    0.,    0.,    0.,    0.,    0.,\n",
       "           2.,    6.,    0.,   27.,  237.,  255.,  254.,  253.,  255.,\n",
       "         187.],\n",
       "       [   0.,    1.,   78.,  152.,  214.,  247.,  244.,  197.,   51.,\n",
       "           0.,    2.,    0.,    0.,    0.,    0.,    0.,    0.,    0.,\n",
       "           0.,    0.,    3.,    0.,  144.,  255.,  250.,  252.,  255.,\n",
       "         130.],\n",
       "       [   0.,    0.,    0.,    0.,    4.,   29.,   22.,    2.,    0.,\n",
       "           1.,    0.,    0.,    0.,    0.,    0.,    0.,    0.,    0.,\n",
       "           0.,    0.,    1.,    0.,   22.,  221.,  255.,  255.,  242.,\n",
       "          39.],\n",
       "       [   0.,    0.,    3.,    4.,    0.,    0.,    0.,    2.,    2.,\n",
       "           0.,    0.,    0.,    0.,    0.,    0.,    0.,    0.,    0.,\n",
       "           0.,    0.,    0.,    2.,    0.,   51.,  217.,  255.,  143.,\n",
       "           0.]])"
      ]
     },
     "execution_count": 68,
     "metadata": {},
     "output_type": "execute_result"
    }
   ],
   "source": [
    "# [0, 255]\n",
    "image = imageio.imread('./notMNIST_large/A/emlwZXJoZWFkLnR0Zg==.png').astype(float)\n",
    "image"
   ]
  },
  {
   "cell_type": "code",
   "execution_count": 69,
   "metadata": {},
   "outputs": [
    {
     "data": {
      "text/plain": [
       "(28, 28)"
      ]
     },
     "execution_count": 69,
     "metadata": {},
     "output_type": "execute_result"
    }
   ],
   "source": [
    "image.shape"
   ]
  },
  {
   "cell_type": "code",
   "execution_count": 70,
   "metadata": {},
   "outputs": [
    {
     "data": {
      "text/plain": [
       "131.79591836734693"
      ]
     },
     "execution_count": 70,
     "metadata": {},
     "output_type": "execute_result"
    }
   ],
   "source": [
    "np.mean(image)"
   ]
  },
  {
   "cell_type": "code",
   "execution_count": 71,
   "metadata": {},
   "outputs": [
    {
     "data": {
      "text/plain": [
       "119.50883403293543"
      ]
     },
     "execution_count": 71,
     "metadata": {},
     "output_type": "execute_result"
    }
   ],
   "source": [
    "np.std(image)"
   ]
  },
  {
   "cell_type": "code",
   "execution_count": 57,
   "metadata": {},
   "outputs": [
    {
     "data": {
      "text/plain": [
       "array([[ 0.        ,  0.        ,  0.        ,  0.        ,  0.        ,\n",
       "         0.        ,  0.00392157,  0.01568628,  0.01176471,  0.        ,\n",
       "         0.03137255,  0.43529412,  0.8509804 ,  1.        ,  0.71372551,\n",
       "         0.01960784,  0.        ,  0.00392157,  0.        ,  0.        ,\n",
       "         0.        ,  0.        ,  0.        ,  0.        ,  0.        ,\n",
       "         0.        ,  0.        ,  0.        ],\n",
       "       [ 0.        ,  0.        ,  0.        ,  0.        ,  0.        ,\n",
       "         0.        ,  0.00392157,  0.00392157,  0.        ,  0.25882354,\n",
       "         0.80784315,  1.        ,  0.99607843,  0.98823529,  1.        ,\n",
       "         0.43921569,  0.        ,  0.01568628,  0.        ,  0.        ,\n",
       "         0.        ,  0.        ,  0.        ,  0.        ,  0.        ,\n",
       "         0.        ,  0.        ,  0.        ],\n",
       "       [ 0.        ,  0.        ,  0.        ,  0.        ,  0.00392157,\n",
       "         0.        ,  0.06666667,  0.30980393,  0.71372551,  1.        ,\n",
       "         1.        ,  0.99215686,  0.99607843,  0.99607843,  1.        ,\n",
       "         0.9254902 ,  0.13333334,  0.        ,  0.00784314,  0.        ,\n",
       "         0.        ,  0.        ,  0.        ,  0.        ,  0.        ,\n",
       "         0.        ,  0.        ,  0.        ],\n",
       "       [ 0.        ,  0.        ,  0.        ,  0.        ,  0.00784314,\n",
       "         0.        ,  0.65882355,  1.        ,  0.98823529,  0.99215686,\n",
       "         0.99215686,  1.        ,  1.        ,  1.        ,  0.98823529,\n",
       "         1.        ,  0.62352943,  0.        ,  0.01176471,  0.        ,\n",
       "         0.        ,  0.        ,  0.        ,  0.        ,  0.        ,\n",
       "         0.        ,  0.        ,  0.        ],\n",
       "       [ 0.        ,  0.        ,  0.        ,  0.00392157,  0.        ,\n",
       "         0.05098039,  0.90196079,  1.        ,  0.98039216,  1.        ,\n",
       "         1.        ,  1.        ,  1.        ,  1.        ,  1.        ,\n",
       "         1.        ,  1.        ,  0.22352941,  0.        ,  0.01176471,\n",
       "         0.        ,  0.        ,  0.        ,  0.        ,  0.        ,\n",
       "         0.        ,  0.        ,  0.        ],\n",
       "       [ 0.        ,  0.        ,  0.        ,  0.01176471,  0.        ,\n",
       "         0.23137255,  1.        ,  1.        ,  1.        ,  1.        ,\n",
       "         1.        ,  1.        ,  0.99607843,  0.99607843,  1.        ,\n",
       "         0.98823529,  1.        ,  0.70980394,  0.        ,  0.00784314,\n",
       "         0.        ,  0.        ,  0.        ,  0.        ,  0.        ,\n",
       "         0.        ,  0.        ,  0.        ],\n",
       "       [ 0.        ,  0.        ,  0.        ,  0.01568628,  0.        ,\n",
       "         0.46666667,  1.        ,  0.98431373,  1.        ,  1.        ,\n",
       "         1.        ,  1.        ,  1.        ,  0.99607843,  1.        ,\n",
       "         1.        ,  0.99215686,  1.        ,  0.32156864,  0.        ,\n",
       "         0.01176471,  0.        ,  0.        ,  0.        ,  0.        ,\n",
       "         0.        ,  0.        ,  0.        ],\n",
       "       [ 0.        ,  0.        ,  0.        ,  0.00392157,  0.        ,\n",
       "         0.69803923,  1.        ,  0.98823529,  1.        ,  1.        ,\n",
       "         0.99215686,  1.        ,  0.69803923,  0.86274511,  1.        ,\n",
       "         0.99607843,  0.99215686,  1.        ,  0.8392157 ,  0.05490196,\n",
       "         0.        ,  0.00392157,  0.        ,  0.        ,  0.        ,\n",
       "         0.        ,  0.        ,  0.        ],\n",
       "       [ 0.        ,  0.        ,  0.00392157,  0.        ,  0.05490196,\n",
       "         0.90980393,  1.        ,  0.99607843,  1.        ,  1.        ,\n",
       "         0.99215686,  1.        ,  0.25098041,  0.52941179,  1.        ,\n",
       "         0.98823529,  1.        ,  0.98431373,  1.        ,  0.53725493,\n",
       "         0.        ,  0.01960784,  0.        ,  0.        ,  0.        ,\n",
       "         0.        ,  0.        ,  0.        ],\n",
       "       [ 0.        ,  0.        ,  0.01176471,  0.        ,  0.26274511,\n",
       "         1.        ,  0.99607843,  0.99607843,  1.        ,  0.99607843,\n",
       "         1.        ,  1.        ,  0.18039216,  0.1882353 ,  1.        ,\n",
       "         0.99607843,  1.        ,  0.99607843,  1.        ,  0.99215686,\n",
       "         0.27843139,  0.        ,  0.01568628,  0.01568628,  0.00784314,\n",
       "         0.        ,  0.        ,  0.        ],\n",
       "       [ 0.        ,  0.        ,  0.01568628,  0.        ,  0.49411765,\n",
       "         1.        ,  0.98431373,  1.        ,  1.        ,  0.99607843,\n",
       "         0.99607843,  1.        ,  0.25490198,  0.        ,  0.84313726,\n",
       "         1.        ,  0.99215686,  1.        ,  0.99607843,  1.        ,\n",
       "         0.89803922,  0.21176471,  0.        ,  0.00392157,  0.        ,\n",
       "         0.01176471,  0.01176471,  0.        ],\n",
       "       [ 0.        ,  0.        ,  0.00392157,  0.        ,  0.7764706 ,\n",
       "         1.        ,  0.99215686,  1.        ,  1.        ,  1.        ,\n",
       "         0.98431373,  1.        ,  0.4627451 ,  0.        ,  0.61176473,\n",
       "         1.        ,  0.98823529,  1.        ,  1.        ,  0.99607843,\n",
       "         1.        ,  0.98039216,  0.73333335,  0.40000001,  0.11764706,\n",
       "         0.        ,  0.        ,  0.        ],\n",
       "       [ 0.        ,  0.00784314,  0.        ,  0.16470589,  0.96470588,\n",
       "         1.        ,  0.99607843,  1.        ,  1.        ,  1.        ,\n",
       "         1.        ,  1.        ,  0.97647059,  0.93333334,  0.95294118,\n",
       "         1.        ,  1.        ,  1.        ,  1.        ,  1.        ,\n",
       "         0.99607843,  0.99215686,  1.        ,  1.        ,  0.96078432,\n",
       "         0.69803923,  0.23529412,  0.        ],\n",
       "       [ 0.        ,  0.01960784,  0.        ,  0.44705883,  1.        ,\n",
       "         0.98431373,  1.        ,  1.        ,  1.        ,  1.        ,\n",
       "         1.        ,  1.        ,  1.        ,  1.        ,  1.        ,\n",
       "         1.        ,  1.        ,  1.        ,  1.        ,  1.        ,\n",
       "         1.        ,  1.        ,  0.98823529,  0.98823529,  0.99607843,\n",
       "         1.        ,  0.96470588,  0.13725491],\n",
       "       [ 0.00392157,  0.        ,  0.00392157,  0.80000001,  1.        ,\n",
       "         0.99215686,  1.        ,  1.        ,  1.        ,  1.        ,\n",
       "         1.        ,  1.        ,  0.99607843,  0.99607843,  0.99607843,\n",
       "         1.        ,  1.        ,  1.        ,  1.        ,  1.        ,\n",
       "         1.        ,  1.        ,  1.        ,  1.        ,  0.98823529,\n",
       "         1.        ,  0.83137256,  0.04313726],\n",
       "       [ 0.00784314,  0.09019608,  0.52156866,  1.        ,  0.99607843,\n",
       "         1.        ,  1.        ,  1.        ,  1.        ,  1.        ,\n",
       "         1.        ,  1.        ,  0.99607843,  0.99607843,  0.99607843,\n",
       "         0.99607843,  0.99607843,  1.        ,  1.        ,  1.        ,\n",
       "         1.        ,  1.        ,  1.        ,  1.        ,  0.98823529,\n",
       "         1.        ,  0.44705883,  0.        ],\n",
       "       [ 0.87843138,  0.97647059,  1.        ,  0.99607843,  1.        ,\n",
       "         1.        ,  1.        ,  1.        ,  1.        ,  1.        ,\n",
       "         0.99215686,  0.98823529,  1.        ,  1.        ,  1.        ,\n",
       "         1.        ,  1.        ,  0.98431373,  0.98823529,  1.        ,\n",
       "         1.        ,  1.        ,  1.        ,  0.99215686,  1.        ,\n",
       "         0.87058824,  0.05490196,  0.        ],\n",
       "       [ 0.77254903,  0.96078432,  1.        ,  0.99607843,  1.        ,\n",
       "         1.        ,  1.        ,  1.        ,  1.        ,  0.99607843,\n",
       "         0.99607843,  1.        ,  0.95686275,  0.93725491,  0.96078432,\n",
       "         0.98431373,  1.        ,  1.        ,  1.        ,  1.        ,\n",
       "         1.        ,  1.        ,  1.        ,  0.99215686,  1.        ,\n",
       "         0.3764706 ,  0.        ,  0.01176471],\n",
       "       [ 0.        ,  0.11764706,  0.76078433,  1.        ,  0.99215686,\n",
       "         1.        ,  1.        ,  1.        ,  0.99215686,  1.        ,\n",
       "         0.80784315,  0.29803923,  0.15294118,  0.07058824,  0.01176471,\n",
       "         0.0627451 ,  0.15686275,  0.32156864,  0.67843139,  0.99215686,\n",
       "         1.        ,  1.        ,  1.        ,  0.99215686,  1.        ,\n",
       "         0.24313726,  0.        ,  0.01176471],\n",
       "       [ 0.01960784,  0.        ,  0.23137255,  1.        ,  0.99607843,\n",
       "         1.        ,  1.        ,  0.99215686,  1.        ,  0.88627452,\n",
       "         0.10980392,  0.        ,  0.40392157,  0.92941177,  0.6156863 ,\n",
       "         0.3764706 ,  0.21960784,  0.15686275,  0.21960784,  0.8392157 ,\n",
       "         1.        ,  0.99215686,  1.        ,  0.98823529,  1.        ,\n",
       "         0.66274512,  0.        ,  0.01176471],\n",
       "       [ 0.01176471,  0.        ,  0.22745098,  1.        ,  0.99607843,\n",
       "         1.        ,  1.        ,  0.98431373,  1.        ,  0.60392159,\n",
       "         0.        ,  0.00784314,  0.15294118,  0.62352943,  0.90980393,\n",
       "         1.        ,  0.99607843,  1.        ,  1.        ,  0.98823529,\n",
       "         0.98823529,  0.99607843,  1.        ,  0.99607843,  1.        ,\n",
       "         0.98431373,  0.19215687,  0.        ],\n",
       "       [ 0.01176471,  0.        ,  0.43529412,  1.        ,  0.98823529,\n",
       "         1.        ,  1.        ,  0.98823529,  1.        ,  0.47058824,\n",
       "         0.        ,  0.01568628,  0.        ,  0.        ,  0.00784314,\n",
       "         0.17647059,  0.45882353,  0.75294119,  0.96078432,  1.        ,\n",
       "         1.        ,  1.        ,  1.        ,  1.        ,  0.98823529,\n",
       "         1.        ,  0.627451  ,  0.        ],\n",
       "       [ 0.01568628,  0.        ,  0.65882355,  1.        ,  0.98823529,\n",
       "         1.        ,  1.        ,  0.99215686,  1.        ,  0.32941177,\n",
       "         0.        ,  0.01176471,  0.00784314,  0.01568628,  0.        ,\n",
       "         0.        ,  0.        ,  0.        ,  0.12156863,  0.39607844,\n",
       "         0.70980394,  0.97254902,  1.        ,  1.        ,  0.99607843,\n",
       "         1.        ,  0.96470588,  0.19215687],\n",
       "       [ 0.        ,  0.        ,  0.7764706 ,  1.        ,  0.98431373,\n",
       "         0.99607843,  0.99607843,  0.98039216,  1.        ,  0.20784314,\n",
       "         0.        ,  0.01176471,  0.        ,  0.        ,  0.00392157,\n",
       "         0.00784314,  0.01568628,  0.00392157,  0.        ,  0.01176471,\n",
       "         0.        ,  0.47450981,  1.        ,  0.98431373,  1.        ,\n",
       "         0.98823529,  1.        ,  0.60000002],\n",
       "       [ 0.        ,  0.03921569,  0.84705883,  1.        ,  0.99215686,\n",
       "         1.        ,  0.99215686,  1.        ,  0.83529413,  0.03921569,\n",
       "         0.        ,  0.00392157,  0.        ,  0.        ,  0.        ,\n",
       "         0.        ,  0.        ,  0.        ,  0.00784314,  0.02352941,\n",
       "         0.        ,  0.10588235,  0.92941177,  1.        ,  0.99607843,\n",
       "         0.99215686,  1.        ,  0.73333335],\n",
       "       [ 0.        ,  0.00392157,  0.30588236,  0.59607846,  0.8392157 ,\n",
       "         0.96862745,  0.95686275,  0.77254903,  0.2       ,  0.        ,\n",
       "         0.00784314,  0.        ,  0.        ,  0.        ,  0.        ,\n",
       "         0.        ,  0.        ,  0.        ,  0.        ,  0.        ,\n",
       "         0.01176471,  0.        ,  0.56470591,  1.        ,  0.98039216,\n",
       "         0.98823529,  1.        ,  0.50980395],\n",
       "       [ 0.        ,  0.        ,  0.        ,  0.        ,  0.01568628,\n",
       "         0.11372549,  0.08627451,  0.00784314,  0.        ,  0.00392157,\n",
       "         0.        ,  0.        ,  0.        ,  0.        ,  0.        ,\n",
       "         0.        ,  0.        ,  0.        ,  0.        ,  0.        ,\n",
       "         0.00392157,  0.        ,  0.08627451,  0.86666667,  1.        ,\n",
       "         1.        ,  0.94901961,  0.15294118],\n",
       "       [ 0.        ,  0.        ,  0.01176471,  0.01568628,  0.        ,\n",
       "         0.        ,  0.        ,  0.00784314,  0.00784314,  0.        ,\n",
       "         0.        ,  0.        ,  0.        ,  0.        ,  0.        ,\n",
       "         0.        ,  0.        ,  0.        ,  0.        ,  0.        ,\n",
       "         0.        ,  0.00784314,  0.        ,  0.2       ,  0.8509804 ,\n",
       "         1.        ,  0.56078434,  0.        ]], dtype=float32)"
      ]
     },
     "execution_count": 57,
     "metadata": {},
     "output_type": "execute_result"
    }
   ],
   "source": [
    "# image is scaled to [0, 1]\n",
    "image = plt.imread('./notMNIST_large/A/emlwZXJoZWFkLnR0Zg==.png')\n",
    "# image = plt.imread('./notMNIST_large/A/emlwZXJoZWFkLnR0Zg==.png').astype(float)\n",
    "image"
   ]
  },
  {
   "cell_type": "code",
   "execution_count": 58,
   "metadata": {},
   "outputs": [
    {
     "data": {
      "text/plain": [
       "(28, 28)"
      ]
     },
     "execution_count": 58,
     "metadata": {},
     "output_type": "execute_result"
    }
   ],
   "source": [
    "image.shape"
   ]
  },
  {
   "cell_type": "code",
   "execution_count": 59,
   "metadata": {},
   "outputs": [
    {
     "data": {
      "text/plain": [
       "0.51684672"
      ]
     },
     "execution_count": 59,
     "metadata": {},
     "output_type": "execute_result"
    }
   ],
   "source": [
    "np.mean(image)"
   ]
  },
  {
   "cell_type": "code",
   "execution_count": 60,
   "metadata": {},
   "outputs": [
    {
     "data": {
      "text/plain": [
       "0.46866208"
      ]
     },
     "execution_count": 60,
     "metadata": {},
     "output_type": "execute_result"
    }
   ],
   "source": [
    "np.std(image)"
   ]
  },
  {
   "cell_type": "code",
   "execution_count": 61,
   "metadata": {},
   "outputs": [
    {
     "data": {
      "text/plain": [
       "1.0"
      ]
     },
     "execution_count": 61,
     "metadata": {},
     "output_type": "execute_result"
    }
   ],
   "source": [
    "np.max(image)"
   ]
  },
  {
   "cell_type": "code",
   "execution_count": 62,
   "metadata": {},
   "outputs": [
    {
     "data": {
      "text/plain": [
       "0.0"
      ]
     },
     "execution_count": 62,
     "metadata": {},
     "output_type": "execute_result"
    }
   ],
   "source": [
    "np.min(image)"
   ]
  },
  {
   "cell_type": "code",
   "execution_count": 25,
   "metadata": {},
   "outputs": [
    {
     "data": {
      "text/plain": [
       "1.0"
      ]
     },
     "execution_count": 25,
     "metadata": {},
     "output_type": "execute_result"
    }
   ],
   "source": [
    "np.max(image)"
   ]
  },
  {
   "cell_type": "code",
   "execution_count": null,
   "metadata": {},
   "outputs": [],
   "source": []
  }
 ],
 "metadata": {
  "kernelspec": {
   "display_name": "Python 2",
   "language": "python",
   "name": "python2"
  },
  "language_info": {
   "codemirror_mode": {
    "name": "ipython",
    "version": 2
   },
   "file_extension": ".py",
   "mimetype": "text/x-python",
   "name": "python",
   "nbconvert_exporter": "python",
   "pygments_lexer": "ipython2",
   "version": "2.7.10"
  }
 },
 "nbformat": 4,
 "nbformat_minor": 2
}
